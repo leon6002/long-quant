{
 "cells": [
  {
   "cell_type": "code",
   "execution_count": null,
   "metadata": {},
   "outputs": [],
   "source": [
    "from datetime import datetime\n",
    "import re\n",
    "import pandas as pd\n",
    "from config.ai import ModelProvider\n",
    "from core.analysis import analyze_stock, analyze_stock_no_parse\n",
    "from core.news import stock_rank, update_ranked_stock_price\n",
    "from crawlers.general import search_engine\n",
    "from crawlers.tonghuashun.main import fetch_investment_calendar, realtime_news\n",
    "from crawlers.tonghuashun.tonghuashun import get_SSE_datas, get_favored_sectors, get_glamour_stocks\n",
    "from maintenance.init_action import init_stock_market_info\n",
    "from maintenance.manual import batch_analyze_ranked_stock\n",
    "from services.ai_service import ai_search, cite_update\n",
    "from services.news_service import get_stock_news, stock_analyze_prompt\n",
    "# import services.tushare as ts\n",
    "from services.tushare import trade_calendar, find_stock_name, get_last_trade_date, get_trade_date_range, realtime_quote, stock_daily_basic, stock_performance, stock_price, news_trade_date\n",
    "from utils.common import get_date_range, get_today, parse_stock_suggesion, time_now\n",
    "from utils.db_utils import drop_collection, find_collection_data, store_df_to_mongodb, update_by_id\n",
    "import logging\n",
    "from pprint import pprint\n",
    "\n",
    "log = logging.getLogger(__name__)"
   ]
  },
  {
   "cell_type": "code",
   "execution_count": null,
   "metadata": {},
   "outputs": [],
   "source": [
    "\n",
    "def copy_analyze():\n",
    "    list_old = find_collection_data('stock_rank_0210_s_01',{},{'_id':0, 'rating': 0, 'stock': 0})\n",
    "    list_new = find_collection_data('stock_rank_0210_s_02')\n",
    "    print(list_new[0])\n",
    "    df_old = pd.DataFrame(list_old)\n",
    "    df_new = pd.DataFrame(list_new)\n",
    "    df_new = pd.merge(df_new, df_old,  on=\"ts_code\", how='inner')\n",
    "    update_by_id(df_new, \"stock_rank_0210_s_02\")\n",
    "\n",
    "def transfer():\n",
    "    drop_collection('stock_rank_0210_s_01')\n",
    "    data = find_collection_data('stock_rank_0210_s_02')\n",
    "    store_df_to_mongodb(pd.DataFrame(data), 'stock_rank_0210_s_01')\n",
    "    drop_collection('stock_rank_0210_s_02')\n"
   ]
  },
  {
   "cell_type": "code",
   "execution_count": null,
   "metadata": {},
   "outputs": [],
   "source": [
    "# 用交易日前一天的新闻验证当天的股价\n",
    "# 新闻表格当天应该收录的是前一天15:00到当天15:00的新闻\n",
    "if 0:\n",
    "    update_ranked_stock_price('20250211', '20250212')\n"
   ]
  },
  {
   "cell_type": "code",
   "execution_count": null,
   "metadata": {},
   "outputs": [],
   "source": [
    "# 获取同花顺热门股票数据\n",
    "if 0:\n",
    "    data_strings = get_glamour_stocks()\n",
    "    total_rise = 0\n",
    "\n",
    "    for i in range (1, 10):\n",
    "            print(\"{:d}: {:s}\\t {:4.1f}%\".format(i, data_strings[i-1][0], data_strings[i-1][1]))\n",
    "            total_rise = total_rise +data_strings[i-1][1]\n",
    "    average = total_rise/9\n",
    "    if(average >= 0):\n",
    "            print(\"+{:4.1f} %\".format(average))\n",
    "    else:\n",
    "            print(\"{:4.1f}%\".format(average))"
   ]
  },
  {
   "cell_type": "code",
   "execution_count": null,
   "metadata": {},
   "outputs": [],
   "source": [
    "if 0:\n",
    "    data_strings = get_favored_sectors()\n",
    "\n",
    "    for i in range(1, len(data_strings)):\n",
    "            print(\"{:d}: {:s}\".format(i, data_strings[i-1]))"
   ]
  },
  {
   "cell_type": "code",
   "execution_count": null,
   "metadata": {},
   "outputs": [],
   "source": [
    "res = trade_calendar(('20250210', '20250220'))\n",
    "log.info(res)\n",
    "\n"
   ]
  },
  {
   "cell_type": "code",
   "execution_count": null,
   "metadata": {},
   "outputs": [],
   "source": [
    "from services.tushare import news_collection_name, get_trade_date_range\n",
    "\n",
    "date = get_trade_date_range(1)[1]\n",
    "# date = news_collection_name()\n",
    "print(date)"
   ]
  },
  {
   "cell_type": "code",
   "execution_count": null,
   "metadata": {},
   "outputs": [],
   "source": [
    "from datetime import datetime\n",
    "\n",
    "from services.tushare import is_date_open, trade_calendar\n",
    "res = is_date_open('20250214')\n",
    "df_calendar = trade_calendar(('20250214', '20250214'))\n",
    "\n",
    "print(res)"
   ]
  },
  {
   "cell_type": "code",
   "execution_count": null,
   "metadata": {},
   "outputs": [],
   "source": [
    "from services.tushare import trade_date_by_given_date, news_collection_name\n",
    "from datetime import datetime\n",
    "now = datetime.strptime('20250213 00:00:00', '%Y%m%d %H:%M:%S')\n",
    "name = news_collection_name(now)\n",
    "print(name)"
   ]
  },
  {
   "cell_type": "code",
   "execution_count": null,
   "metadata": {},
   "outputs": [],
   "source": [
    "from main import main\n",
    "main()"
   ]
  },
  {
   "cell_type": "code",
   "execution_count": null,
   "metadata": {},
   "outputs": [],
   "source": [
    "groups = {}\n",
    "if 'news_0217' not in groups.keys():\n",
    "    groups['news_0217'] = ['hhaha']\n",
    "else:\n",
    "    groups['news_0217'].append(['hhaha'])\n",
    "print(groups)"
   ]
  },
  {
   "cell_type": "code",
   "execution_count": 2,
   "metadata": {},
   "outputs": [
    {
     "name": "stdout",
     "output_type": "stream",
     "text": [
      "83ab38bef23d4d98\n"
     ]
    }
   ],
   "source": [
    "index_url = 'https://data.10jqka.com.cn/ifmarket/lhbhistory/orgcode/83ab38bef23d4d98'\n",
    "orgcode = index_url.split(\"/\")[-1]\n",
    "print(orgcode)"
   ]
  },
  {
   "cell_type": "code",
   "execution_count": null,
   "metadata": {},
   "outputs": [],
   "source": [
    "from crawlers.tonghuashun.tonghuashun import parse_yyb\n",
    "\n",
    "\n"
   ]
  }
 ],
 "metadata": {
  "kernelspec": {
   "display_name": "myenv",
   "language": "python",
   "name": "python3"
  },
  "language_info": {
   "codemirror_mode": {
    "name": "ipython",
    "version": 3
   },
   "file_extension": ".py",
   "mimetype": "text/x-python",
   "name": "python",
   "nbconvert_exporter": "python",
   "pygments_lexer": "ipython3",
   "version": "3.13.2"
  }
 },
 "nbformat": 4,
 "nbformat_minor": 2
}
