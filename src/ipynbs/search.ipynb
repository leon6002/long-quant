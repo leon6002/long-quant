{
 "cells": [
  {
   "cell_type": "code",
   "execution_count": 1,
   "metadata": {},
   "outputs": [
    {
     "name": "stdout",
     "output_type": "stream",
     "text": [
      "cur_dir is: /Users/cgl/codes/python/long-quant/src/ipynbs\n"
     ]
    }
   ],
   "source": [
    "import os\n",
    "import sys\n",
    "\n",
    "cur_dir = os.getcwd()\n",
    "print(f'cur_dir is: {cur_dir}')\n",
    "pkg_rootdir = os.path.dirname(os.path.dirname(cur_dir))\n",
    "src_dir = os.path.join(pkg_rootdir, 'src')\n",
    "if pkg_rootdir not in sys.path:\n",
    "    sys.path.append(pkg_rootdir)\n",
    "if src_dir not in sys.path:\n",
    "    sys.path.append(src_dir)"
   ]
  },
  {
   "cell_type": "code",
   "execution_count": 2,
   "metadata": {},
   "outputs": [
    {
     "name": "stdout",
     "output_type": "stream",
     "text": [
      "bocha_search reponse code: 200\n",
      "response text: {\"code\":200,\"log_id\":\"1aaf15a755769ab1\",\"msg\":null,\"data\":{\"_type\":\"SearchResponse\",\"queryContext\":{\"originalQuery\":\"小程序开发成本预算费用价格范围\"},\"webPages\":{\"webSearchUrl\":\"https://bochaai.com/search?q=小程序开发成本预算费用价格范围\",\"totalEstimatedMatches\":10000000,\"value\":[{\"id\":\"https://api.bochaai.com/v1/#WebPages.0\",\"name\":\"微信小程序开发费用一览表_内涵在线\",\"url\":\"http://www.yoneihan.com/xinwen/yejie/88846.html\",\"displayUrl\":\"http://www.yoneihan.com/xinwen/yejie/88846.html\",\"snippet\":\"发布时间: 网址:www.yoneihan.com 小程序开发费用取决于各种因素 首先,需要明确的是,小程序开发费用是根据各种因素来定价的。比如,开发公司的规模、品牌影响力、技术水平、项目的复杂度以及\",\"summary\":\"发布时间: 网址:www.yoneihan.com 小程序开发费用取决于各种因素 首先,需要明确的是,小程序开发费用是根据各种因素来定价的。比如,开发公司的规模、品牌影响力、技术水平、项目的复杂度以及所需的功能等方面都会对开发费用产生影响。因此,在选择小程序开发公司之前,你需要对自己或企业的需求有一个清晰的了解,并确定所需要的功能和服务范围。 小程序开发费用通常包括以下几个方面: 1.设计费用:包互设计,价格一般在5000元至2万元不等。 2.开发费用:根据项目的复杂度和工作量不同,通常在2万元至10万元不等。 3.测试费用:进行各种测试,修复和优化会增加额外的时间和成本。 4.维护费用:包括服务器维护、安全检查和功能更新等,价格通常在每月500元到2000元不等。 可估算的小程序开发费用范围 小程序开发的费用范围可以非常广泛,根据不同的项目和要求,费用可能会远高于上述费用。以下是几个可估算的小程序开发费用范围参考: 1.简单型小程序:仅具有基本功能,开发周期较短,费用约为1万元。 2.普及型小程序:比简单型复杂一些,具有较为完整的功能,费用在2-5万元不等。 3.定制化小程序:根据客户需求量身定制,有专门的后端工作量和前端需求,费用在5-10万元左右。 4.大型小程序:具有复杂的功能和大规模用户,费用可能超过20万元。 需要注意的是,价格并不代表所有问题,便宜的开发公司可能效率低下或者质量差劲。如果为了降低成本而选择不专业或者不合适的小程序开发公司,可能会带来质量和时效性问题。 如何控制小程序开发费用? 如果您需要掌控小程序开发的费用,可以尝试以下方法: 1.明确项目需求:在选择小程序开发公司之前,详细说明项目需求,包括功能和服务范围,避免在开发过程中频繁修改需求导致额外的费用。 2.选择合适的开发公司:通过咨询、了解公司的案例和客户评价,选择有经验和专业技能的小程序开发\",\"siteName\":\"www.yoneihan.com\",\"siteIcon\":\"https://th.bochaai.com/favicon?domain_url=http://www.yoneihan.com/xinwen/yejie/88846.html\",\"datePublished\":\"2022-06-14T23:06:42+08:00\",\"dateLastCrawled\":\"2022-06-14T23:06:42Z\",\"cachedPageUrl\":null,\"language\":null,\"isFamilyFriendly\":null,\"isNavigational\":null}],\"someResultsRemoved\":true},\"images\":{\"id\":null,\"readLink\":null,\"webSearchUrl\":null,\"value\":[],\"isFamilyFriendly\":null},\"videos\":null}}\n",
      "final prompt is: \n",
      "    现在时间是：2025-06-23 22:26:47，请结合下面给出的网页搜索结果（注意权衡新闻的时效性），回答一下用户的问题。\n",
      "    如果引用了搜索结果，请在引用的地方标注来源cite_index,比如[^1][^2]， 注意无需在尾部添加来源。\n",
      "    用户的问题是：小程序成本\n",
      "    网页搜索结果如下：\n",
      "    \n",
      "        **----第1条网页搜索结果----**\n",
      "        网页标题：微信小程序开发费用一览表_内涵在线\n",
      "        网页链接：http://www.yoneihan.com/xinwen/yejie/88846.html\n",
      "        网页内容：发布时间: 网址:www.yoneihan.com 小程序开发费用取决于各种因素 首先,需要明确的是,小程序开发费用是根据各种因素来定价的。比如,开发公司的规模、品牌影响力、技术水平、项目的复杂度以及所需的功能等方面都会对开发费用产生影响。因此,在选择小程序开发公司之前,你需要对自己或企业的需求有一个清晰的了解,并确定所需要的功能和服务范围。 小程序开发费用通常包括以下几个方面: 1.设计费用:包互设计,价格一般在5000元至2万元不等。 2.开发费用:根据项目的复杂度和工作量不同,通常在2万元至10万元不等。 3.测试费用:进行各种测试,修复和优化会增加额外的时间和成本。 4.维护费用:包括服务器维护、安全检查和功能更新等,价格通常在每月500元到2000元不等。 可估算的小程序开发费用范围 小程序开发的费用范围可以非常广泛,根据不同的项目和要求,费用可能会远高于上述费用。以下是几个可估算的小程序开发费用范围参考: 1.简单型小程序:仅具有基本功能,开发周期较短,费用约为1万元。 2.普及型小程序:比简单型复杂一些,具有较为完整的功能,费用在2-5万元不等。 3.定制化小程序:根据客户需求量身定制,有专门的后端工作量和前端需求,费用在5-10万元左右。 4.大型小程序:具有复杂的功能和大规模用户,费用可能超过20万元。 需要注意的是,价格并不代表所有问题,便宜的开发公司可能效率低下或者质量差劲。如果为了降低成本而选择不专业或者不合适的小程序开发公司,可能会带来质量和时效性问题。 如何控制小程序开发费用? 如果您需要掌控小程序开发的费用,可以尝试以下方法: 1.明确项目需求:在选择小程序开发公司之前,详细说明项目需求,包括功能和服务范围,避免在开发过程中频繁修改需求导致额外的费用。 2.选择合适的开发公司:通过咨询、了解公司的案例和客户评价,选择有经验和专业技能的小程序开发\n",
      "        \n",
      "    \n"
     ]
    }
   ],
   "source": [
    "from src.services.ai_service import ai_search\n",
    "res = ai_search('小程序成本', 1, 3)"
   ]
  }
 ],
 "metadata": {
  "kernelspec": {
   "display_name": ".venv",
   "language": "python",
   "name": "python3"
  },
  "language_info": {
   "codemirror_mode": {
    "name": "ipython",
    "version": 3
   },
   "file_extension": ".py",
   "mimetype": "text/x-python",
   "name": "python",
   "nbconvert_exporter": "python",
   "pygments_lexer": "ipython3",
   "version": "3.13.2"
  }
 },
 "nbformat": 4,
 "nbformat_minor": 2
}
