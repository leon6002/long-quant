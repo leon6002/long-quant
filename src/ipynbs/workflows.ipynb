{
 "cells": [
  {
   "cell_type": "code",
   "execution_count": 1,
   "metadata": {},
   "outputs": [
    {
     "name": "stdout",
     "output_type": "stream",
     "text": [
      "cur_dir is: /Users/cgl/codes/python/long-quant/src/ipynbs\n"
     ]
    },
    {
     "name": "stderr",
     "output_type": "stream",
     "text": [
      "2025-06-22 23:47:12 INFO [3681102577.py]: imports loaded\n"
     ]
    }
   ],
   "source": [
    "\n",
    "\n",
    "import os\n",
    "import sys\n",
    "from datetime import datetime\n",
    "cur_dir = os.getcwd()\n",
    "print(f'cur_dir is: {cur_dir}')\n",
    "pkg_rootdir = os.path.dirname(os.path.dirname(cur_dir))\n",
    "src_dir = os.path.join(pkg_rootdir, 'src')\n",
    "if pkg_rootdir not in sys.path:\n",
    "    sys.path.append(pkg_rootdir)\n",
    "if src_dir not in sys.path:\n",
    "    sys.path.append(src_dir)\n",
    "\n",
    "from core.analysis import analyze_stock_no_parse\n",
    "from services.ai_service import ai_search\n",
    "import logging\n",
    "from services.tushare import find_stock_code\n",
    "from utils.common import time_now\n",
    "from services.search import SearchResultItem\n",
    "\n",
    "log = logging.getLogger(__name__)\n",
    "log.info('imports loaded')"
   ]
  },
  {
   "cell_type": "code",
   "execution_count": 2,
   "metadata": {},
   "outputs": [
    {
     "name": "stderr",
     "output_type": "stream",
     "text": [
      "2025-06-22 23:47:38 INFO [2373577460.py]: ai_search_workflow loaded\n",
      "2025-06-22 23:47:39 INFO [_client.py]: HTTP Request: POST https://dashscope.aliyuncs.com/compatible-mode/v1/chat/completions \"HTTP/1.1 200 OK\"\n",
      "2025-06-22 23:47:39 INFO [ai_service.py]: 搜索关键词： 2025年 细分领域 web小程序 创业机会 发现方法\n"
     ]
    },
    {
     "name": "stdout",
     "output_type": "stream",
     "text": [
      "bocha_search reponse code: 200\n",
      "response text: {\"code\":200,\"log_id\":\"dc031809436a61f1\",\"msg\":null,\"data\":{\"_type\":\"SearchResponse\",\"queryContext\":{\"originalQuery\":\"2025年 细分领域 web小程序 创业机会 发现方法\"},\"webPages\":{\"webSearchUrl\":\"https://bochaai.com/search?q=2025年 细分领域 web小程序 创业机会 发现方法\",\"totalEstimatedMatches\":10000000,\"value\":[{\"id\":\"https://api.bochaai.com/v1/#WebPages.0\",\"name\":\"2022-2028年微信小程序行业市场机会挖掘与投资策略咨询报告 - MBA智库文档\",\"url\":\"https://doc.mbalib.com/view/9e8ddf467895b21b6d54bda93ca41b64.html\",\"displayUrl\":\"https://doc.mbalib.com/view/9e8ddf467895b21b6d54bda93ca41b64.html\",\"snippet\":\"2022-2028年微信小程序行业市场机会挖掘与投资策略咨询报告价格RMB 888服务形式PDF+WORD电子版报告简介微信小程序行业都有哪些投资机会?微信小程序行业的细分领域都有哪些投资机会?微信小\",\"summary\":\"2022-2028年微信小程序行业市场机会挖掘与投资策略咨询报告价格RMB 888服务形式PDF+WORD电子版报告简介微信小程序行业都有哪些投资机会?微信小程序行业的细分领域都有哪些投资机会?微信小程序行业的区域市场都有哪些投资机会?微信小程序行业的产业空白点都有哪些投资机会?微信小程序行业的产业链环节都有哪些投资机会?微信小程序行业投资回报率比较高的投资方向在哪里?当然,最重要的:我们怎么根据这些机会,制定正确的投资策略?本报告将为您一一解答!相信通过本报告对这些问题全面深入的研究和解答,您对这些信息的了解与把控,将上升到一个新的台阶。这将为您经营管理、战略部署、成功投资提供有力的决策参考价值,也为您抢占市场先机提供有力的保证。报告目录第一章 投资机会研究概述 第一节 投资机会研究的构成要素 一、市场供需状况 二、行业发展规律 三、国家产业政策 四、商品价格变化动态 五、企业资源与能力 六、国家经济政策的变化 七、国际市场变化动态 第二节 发现投资机会的科学方法 一、寻找投资机会的基本步骤及需要注意的问题 二、寻找投资机会的基本方法 第三节 企业投资机会主要的分析工具 一、PEST分析 二、SCP模型 三、SWOT分析 四、波特五力模型 五、价值链分析 六、层面论分析 七、行业生命周期分析第二章 2022-2023年我国微信小程序行业发展情况分析 第一节 全球微信小程序行业发展现状分析 一、全球微信小程序行业发展现状分析 二、全球微信小程序行业发展最新动态分析 三、全球微信小程序行业发展趋势分析 第二节 微信小程序行业发展基本情况 一、我国微信小程序行业发展现状分析 二、我国微信小程序行业发展特点分析 第三节 2022-2023年中国微信小程序行业发展情况分析 一、中国微信小程序行业经济运行情况 二、微信小程序行业企业经营情况分析 三、微信小程序行业企业景气情况分析 四\",\"siteName\":\"MBA智库文档\",\"siteIcon\":\"https://th.bochaai.com/favicon?domain_url=https://doc.mbalib.com/view/9e8ddf467895b21b6d54bda93ca41b64.html\",\"datePublished\":\"2023-01-17T15:30:46+08:00\",\"dateLastCrawled\":\"2023-01-17T15:30:46Z\",\"cachedPageUrl\":null,\"language\":null,\"isFamilyFriendly\":null,\"isNavigational\":null},{\"id\":\"https://api.bochaai.com/v1/#WebPages.1\",\"name\":\"2025年互联网创业青年项目计划书模板.pptx_淘豆网\",\"url\":\"https://www.taodocs.com/p-1104230547.html\",\"displayUrl\":\"https://www.taodocs.com/p-1104230547.html\",\"snippet\":\"行业竞争激烈,但细分市场仍然存在大量机会,尤其是在垂直领域和下沉市场。互联网行业发展现状及趋势03青年创业者在资金、经验、资源等方面存在短板,需要得到专业的指导和支持。01青年创业群体具有创新思维活跃\",\"summary\":\"行业竞争激烈,但细分市场仍然存在大量机会,尤其是在垂直领域和下沉市场。互联网行业发展现状及趋势03青年创业者在资金、经验、资源等方面存在短板,需要得到专业的指导和支持。01青年创业群体具有创新思维活跃、接受新事物能力强、敢于冒险等特点。02他們渴望通过创业实現自我价值,追求独立、自由和成就感。\",\"siteName\":\"淘豆网\",\"siteIcon\":\"https://th.bochaai.com/favicon?domain_url=https://www.taodocs.com/p-1104230547.html\",\"datePublished\":\"2024-10-05T22:35:03+08:00\",\"dateLastCrawled\":\"2024-10-05T22:35:03Z\",\"cachedPageUrl\":null,\"language\":null,\"isFamilyFriendly\":null,\"isNavigational\":null}],\"someResultsRemoved\":true},\"images\":{\"id\":null,\"readLink\":null,\"webSearchUrl\":null,\"value\":[],\"isFamilyFriendly\":null},\"videos\":null}}\n",
      "final prompt is: \n",
      "    现在时间是：2025-06-22 23:47:38，请结合下面给出的网页搜索结果（注意权衡新闻的时效性），回答一下用户的问题。\n",
      "    如果引用了搜索结果，请在引用的地方标注来源cite_index,比如[^1][^2]， 注意无需在尾部添加来源。\n",
      "    用户的问题是：如何找到细分领域的web或者小程序创业机会\n",
      "    网页搜索结果如下：\n",
      "    [{\"url\": \"https://doc.mbalib.com/view/9e8ddf467895b21b6d54bda93ca41b64.html\", \"title\": \"2022-2028年微信小程序行业市场机会挖掘与投资策略咨询报告 - MBA智库文档\", \"content\": \"2022-2028年微信小程序行业市场机会挖掘与投资策略咨询报告价格RMB 888服务形式PDF+WORD电子版报告简介微信小程序行业都有哪些投资机会?微信小程序行业的细分领域都有哪些投资机会?微信小程序行业的区域市场都有哪些投资机会?微信小程序行业的产业空白点都有哪些投资机会?微信小程序行业的产业链环节都有哪些投资机会?微信小程序行业投资回报率比较高的投资方向在哪里?当然,最重要的:我们怎么根据这些机会,制定正确的投资策略?本报告将为您一一解答!相信通过本报告对这些问题全面深入的研究和解答,您对这些信息的了解与把控,将上升到一个新的台阶。这将为您经营管理、战略部署、成功投资提供有力的决策参考价值,也为您抢占市场先机提供有力的保证。报告目录第一章 投资机会研究概述 第一节 投资机会研究的构成要素 一、市场供需状况 二、行业发展规律 三、国家产业政策 四、商品价格变化动态 五、企业资源与能力 六、国家经济政策的变化 七、国际市场变化动态 第二节 发现投资机会的科学方法 一、寻找投资机会的基本步骤及需要注意的问题 二、寻找投资机会的基本方法 第三节 企业投资机会主要的分析工具 一、PEST分析 二、SCP模型 三、SWOT分析 四、波特五力模型 五、价值链分析 六、层面论分析 七、行业生命周期分析第二章 2022-2023年我国微信小程序行业发展情况分析 第一节 全球微信小程序行业发展现状分析 一、全球微信小程序行业发展现状分析 二、全球微信小程序行业发展最新动态分析 三、全球微信小程序行业发展趋势分析 第二节 微信小程序行业发展基本情况 一、我国微信小程序行业发展现状分析 二、我国微信小程序行业发展特点分析 第三节 2022-2023年中国微信小程序行业发展情况分析 一、中国微信小程序行业经济运行情况 二、微信小程序行业企业经营情况分析 三、微信小程序行业企业景气情况分析 四\", \"cite_index\": 1}, {\"url\": \"https://www.taodocs.com/p-1104230547.html\", \"title\": \"2025年互联网创业青年项目计划书模板.pptx_淘豆网\", \"content\": \"行业竞争激烈,但细分市场仍然存在大量机会,尤其是在垂直领域和下沉市场。互联网行业发展现状及趋势03青年创业者在资金、经验、资源等方面存在短板,需要得到专业的指导和支持。01青年创业群体具有创新思维活跃、接受新事物能力强、敢于冒险等特点。02他們渴望通过创业实現自我价值,追求独立、自由和成就感。\", \"cite_index\": 2}]\n",
      "    \n"
     ]
    },
    {
     "name": "stderr",
     "output_type": "stream",
     "text": [
      "2025-06-22 23:48:07 INFO [_client.py]: HTTP Request: POST https://dashscope.aliyuncs.com/compatible-mode/v1/chat/completions \"HTTP/1.1 200 OK\"\n",
      "2025-06-22 23:48:07 INFO [2373577460.py]: [{'index': 0, 'keyword': '2025年 细分领域 web小程序 创业机会 发现方法', 'results': [<services.search.SearchResultItem object at 0x1249de660>, <services.search.SearchResultItem object at 0x124a2a990>]}]\n",
      "2025-06-22 23:48:07 INFO [2373577460.py]: AI搜索分析结束，文件已保存\n"
     ]
    }
   ],
   "source": [
    "def ai_search_workflow(query):\n",
    "    res_json = ai_search(query, 1, 3)\n",
    "    time = datetime.now()\n",
    "    time_str = time.strftime('%m%d_%H%M')\n",
    "    filename = f\"{query[:8]}_{time_str}.md\"\n",
    "    save_path = f\"/Users/cgl/Library/Mobile Documents/iCloud~md~obsidian/Documents/md/ask_ai/ai_search/{filename}\"\n",
    "    references_path =  f\"/Users/cgl/Library/Mobile Documents/iCloud~md~obsidian/Documents/md/ask_ai/ai_search/references/{filename}\"\n",
    "    references_content = ''\n",
    "    save_content = f\"**问题：** {res_json['query']}\\n\\n\"\n",
    "    save_content += f\"{res_json['answer']}\"\n",
    "    search_result = res_json['search_result']\n",
    "    log.info(search_result)\n",
    "    references_content = ''\n",
    "    for s in search_result:\n",
    "           references_content += f\"### 搜索词：{s['keyword']}\\n\\n\"\n",
    "           for r in s['results']:\n",
    "                r: SearchResultItem\n",
    "                references_content += f\"标题: {r.title}\\n\\n\"\n",
    "                references_content += f\"来源链接: {r.url}\\n\\n\"\n",
    "                references_content += f\"内容: {r.content}\\n\\n\"\n",
    "    with open(save_path, \"w\") as f:\n",
    "            f.write(save_content)\n",
    "    with open(references_path, \"w\") as f:\n",
    "            f.write(references_content)\n",
    "    log.info(\"AI搜索分析结束，文件已保存\")\n",
    "log.info('ai_search_workflow loaded')\n",
    "\n",
    "# ai搜索\n",
    "query=\"\"\"如何找到细分领域的web或者小程序创业机会\"\"\"\n",
    "ai_search_workflow(query)"
   ]
  },
  {
   "cell_type": "code",
   "execution_count": null,
   "metadata": {},
   "outputs": [],
   "source": [
    "def ai_stock_analysis_workflow(ts_code: str=None, name: str=None):\n",
    "    \"\"\"\n",
    "    根据技术面和消息面分析股票，需传入ts_code或者name股票名称至少一个。\n",
    "    有限根据ts_code\n",
    "    \"\"\"\n",
    "    if ts_code is None:\n",
    "        if name is None:\n",
    "            raise ValueError(\"ts_code和name必须传入一个\")\n",
    "        ts_code = find_stock_code(name)\n",
    "        if ts_code is None:\n",
    "            raise ValueError(\"输入的股票名称不正确\")\n",
    "    prompt, suggestion=analyze_stock_no_parse(ts_code)\n",
    "    filename = f\"stock_{ts_code[:6]}_{time_now('%m%d_%H%M')}.md\"\n",
    "    save_path = f\"/Users/cgl/Library/Mobile Documents/iCloud~md~obsidian/Documents/md/ask_ai/stock_analyze/{filename}\"\n",
    "    save_content = f\"# 个股分析：{ts_code}\"\n",
    "    save_content += '\\n\\n'\n",
    "    save_content += suggestion\n",
    "    save_content += '\\n\\n**提问词：**\\n'\n",
    "    save_content += prompt\n",
    "    with open(save_path, \"w\") as f:\n",
    "         f.write(save_content)\n",
    "\n",
    "# 结合tushare股票最近股价数据和相关新闻快讯，分析股票短中长期投资建议\n",
    "ai_stock_analysis_workflow(name='电魂网络')"
   ]
  },
  {
   "cell_type": "code",
   "execution_count": null,
   "metadata": {},
   "outputs": [],
   "source": [
    "def loop_analyze():\n",
    "    for i  in range(5):\n",
    "        batch_analyze_ranked_stock()"
   ]
  }
 ],
 "metadata": {
  "kernelspec": {
   "display_name": ".venv",
   "language": "python",
   "name": "python3"
  },
  "language_info": {
   "codemirror_mode": {
    "name": "ipython",
    "version": 3
   },
   "file_extension": ".py",
   "mimetype": "text/x-python",
   "name": "python",
   "nbconvert_exporter": "python",
   "pygments_lexer": "ipython3",
   "version": "3.13.2"
  }
 },
 "nbformat": 4,
 "nbformat_minor": 2
}
