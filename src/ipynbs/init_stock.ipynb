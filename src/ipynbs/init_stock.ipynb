{
 "cells": [
  {
   "cell_type": "code",
   "execution_count": null,
   "metadata": {},
   "outputs": [
    {
     "name": "stdout",
     "output_type": "stream",
     "text": [
      "cur_dir is: /Users/cgl/codes/python/long-quant/src/ipynbs\n"
     ]
    }
   ],
   "source": [
    "import os\n",
    "import sys\n",
    "\n",
    "cur_dir = os.getcwd()\n",
    "print(f'cur_dir is: {cur_dir}')\n",
    "pkg_rootdir = os.path.dirname(os.path.dirname(cur_dir))\n",
    "src_dir = os.path.join(pkg_rootdir, 'src')\n",
    "if pkg_rootdir not in sys.path:\n",
    "    sys.path.append(pkg_rootdir)\n",
    "if src_dir not in sys.path:\n",
    "    sys.path.append(src_dir)"
   ]
  },
  {
   "cell_type": "code",
   "execution_count": 2,
   "metadata": {},
   "outputs": [],
   "source": [
    "from datetime import datetime\n",
    "from bson import ObjectId\n",
    "import pandas as pd\n",
    "from tqdm import tqdm\n",
    "from core.analysis import summary\n",
    "from utils.db_utils import drop_collection, find_collection_data, store_df_to_mongodb, update_by_id\n",
    "from services.tushare import get_stocks, news_collection_name\n",
    "from config.db import listed_stocks_collection\n",
    "import logging\n",
    "\n",
    "logger = logging.getLogger(__name__)\n",
    "\n",
    "def init_stock_market_info():\n",
    "    \"\"\"\n",
    "    初始化股票基础数据\n",
    "    \"\"\"\n",
    "    df = get_stocks()\n",
    "    if df.empty:\n",
    "        logger.error(\"初始化股票基础数据失败, 未获取到数据，请检查tushare接口\")\n",
    "        return\n",
    "    now = datetime.now()\n",
    "\n",
    "    def process_row(row):\n",
    "        row['create_time'] = now\n",
    "        row['_id'] = str(ObjectId())\n",
    "        row['type'] = stock_type(row['ts_code'])\n",
    "        return row\n",
    "\n",
    "    df = df.apply(process_row,axis=1)\n",
    "\n",
    "    drop_collection(listed_stocks_collection)\n",
    "    store_df_to_mongodb(df, listed_stocks_collection)\n",
    "\n",
    "\n",
    "def stock_type(ts_code: str):\n",
    "    # Mapping of prefixes to stock types\n",
    "    stock_type_mapping = {\n",
    "        ('300', '301'): '创业板',\n",
    "        ('688', '689'): '科创板',  # 科创板股票代码以“688”开头，存托凭证以“689”开头\n",
    "        ('000', '001', '002', '003'): '深市主板',\n",
    "        ('600', '601', '603', '605'): '沪市主板',\n",
    "        ('400', '430', '830'): '新三板',\n",
    "        ('8', '9'): '北交所',\n",
    "    }\n",
    "\n",
    "    # Check each mapping for a matching prefix\n",
    "    for prefixes, stock_type_name in stock_type_mapping.items():\n",
    "        if any(ts_code.startswith(prefix) for prefix in prefixes):\n",
    "            return stock_type_name\n",
    "\n",
    "    return '未知'\n",
    "\n",
    "def update_none_title(batch_size=5, max_retries=2):\n",
    "    \"\"\"\n",
    "    找出title为空的新闻，用ai根据content内容总结出一个简短的标题，更新回mongodb\n",
    "    \"\"\"\n",
    "    query = {\n",
    "                '$or': [\n",
    "                    {'title': {'$exists': False}},\n",
    "                    {'title': {'$in': [None, '']}}\n",
    "                ],\n",
    "                'content': {'$exists': True, '$ne': ''}  # 确保有内容可以生成标题\n",
    "            }\n",
    "    news_to_update = find_collection_data(news_collection_name(), query, {}, batch_size)\n",
    "    if not news_to_update:\n",
    "        logger.info(\"没有需要更新标题的新闻\")\n",
    "        return\n",
    "    for doc in tqdm(news_to_update):\n",
    "            content = doc['content']\n",
    "            news_id = doc['_id']\n",
    "\n",
    "            # 生成标题（需要实现generate_title_by_ai函数）\n",
    "            for attempt in range(max_retries):\n",
    "                try:\n",
    "                    new_title = summary(content)  # 假设的AI生成函数\n",
    "                    # print(f\"id: {news_id} title: {new_title} content: {content}\")\n",
    "                    if new_title:\n",
    "                        doc['title'] = new_title\n",
    "                    break\n",
    "                except Exception as e:\n",
    "                    if attempt == max_retries - 1:\n",
    "                        logger.error(f\"为文档 {news_id} 生成标题失败: {str(e)}\")\n",
    "    update_by_id(pd.DataFrame(news_to_update), news_collection_name())"
   ]
  },
  {
   "cell_type": "code",
   "execution_count": 3,
   "metadata": {},
   "outputs": [
    {
     "data": {
      "text/plain": [
       "'沪市主板'"
      ]
     },
     "execution_count": 3,
     "metadata": {},
     "output_type": "execute_result"
    }
   ],
   "source": [
    "stock_type('600312')"
   ]
  }
 ],
 "metadata": {
  "kernelspec": {
   "display_name": ".venv",
   "language": "python",
   "name": "python3"
  },
  "language_info": {
   "codemirror_mode": {
    "name": "ipython",
    "version": 3
   },
   "file_extension": ".py",
   "mimetype": "text/x-python",
   "name": "python",
   "nbconvert_exporter": "python",
   "pygments_lexer": "ipython3",
   "version": "3.13.2"
  }
 },
 "nbformat": 4,
 "nbformat_minor": 2
}
