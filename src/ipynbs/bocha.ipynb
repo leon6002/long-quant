{
 "cells": [
  {
   "cell_type": "code",
   "execution_count": 3,
   "id": "354ee3c9",
   "metadata": {},
   "outputs": [
    {
     "name": "stdout",
     "output_type": "stream",
     "text": [
      "cur_dir is: /Users/cgl/codes/python/long-quant/src/ipynbs\n"
     ]
    }
   ],
   "source": [
    "import os\n",
    "import sys\n",
    "import requests\n",
    "\n",
    "cur_dir = os.getcwd()\n",
    "print(f'cur_dir is: {cur_dir}')\n",
    "pkg_rootdir = os.path.dirname(os.path.dirname(cur_dir))\n",
    "src_dir = os.path.join(pkg_rootdir, 'src')\n",
    "if pkg_rootdir not in sys.path:\n",
    "    sys.path.append(pkg_rootdir)\n",
    "if src_dir not in sys.path:\n",
    "    sys.path.append(src_dir)\n",
    "\n",
    "from config.bocha import BOCHA_API_KEY\n",
    "headers = {'Authorization': f'Bearer {BOCHA_API_KEY}', 'Content-Type': 'application/json'}\n",
    "\n",
    "\n",
    "def bocha_balance() -> None:\n",
    "    print('bocha key',BOCHA_API_KEY)\n",
    "    url = \"https://api.bochaai.com/v1/fund/remaining\"\n",
    "    response = requests.request(\"GET\", url, headers=headers)\n",
    "    print(response.text)\n",
    "\n"
   ]
  },
  {
   "cell_type": "code",
   "execution_count": 7,
   "id": "74dbf21d",
   "metadata": {},
   "outputs": [
    {
     "name": "stdout",
     "output_type": "stream",
     "text": [
      "bocha key sk-12b78b6f75784bee9cb4d7b9a53a0a49\n",
      "{\"success\":true,\"code\":\"200\",\"subCode\":null,\"msg\":\"success\",\"data\":{\"remaining\":48.70},\"timestamp\":1750686885778,\"enableThrow\":false,\"enableRespException\":false}\n"
     ]
    }
   ],
   "source": [
    "# 查看bocha api余额\n",
    "bocha_balance()"
   ]
  },
  {
   "cell_type": "code",
   "execution_count": 6,
   "id": "4cb5a9f6",
   "metadata": {},
   "outputs": [
    {
     "name": "stdout",
     "output_type": "stream",
     "text": [
      "bocha_search reponse code: 200\n",
      "response text: {\"code\":200,\"log_id\":\"9a274e843a5d8f49\",\"msg\":null,\"data\":{\"_type\":\"SearchResponse\",\"queryContext\":{\"originalQuery\":\"独立开发者出海支付渠道\"},\"webPages\":{\"webSearchUrl\":\"https://bochaai.com/search?q=独立开发者出海支付渠道\",\"totalEstimatedMatches\":10000000,\"value\":[{\"id\":\"https://api.bochaai.com/v1/#WebPages.0\",\"name\":\"【独立开发】出海产品在线支付申请流程_海外支付对接不支持用个人的名义申请-CSDN博客\",\"url\":\"https://blog.csdn.net/2403_90062330/article/details/145025739\",\"displayUrl\":\"https://blog.csdn.net/2403_90062330/article/details/145025739\",\"snippet\":\"最新推荐文章于 2025-03-14 18:07:32 发布 版权声明:本文为博主原创文章,遵循CC 4.0 BY-SA版权协议,转载请附上原文出处链接和本声明。 3 篇文章 订阅专栏 独立开发 \",\"summary\":\"最新推荐文章于 2025-03-14 18:07:32 发布 版权声明:本文为博主原创文章,遵循CC 4.0 BY-SA版权协议,转载请附上原文出处链接和本声明。 3 篇文章 订阅专栏 独立开发 2 篇文章 订阅专栏 产品出海 2 篇文章 订阅专栏 目前国内产品和应用基本都已经卷到一个天花板了,最近几年,在软件产品领域有个明显的趋势: 绝大部分软件应用都在快速转向海外市场  ,寻求全新的增量的机会 ,近期几年服务的一些企业客户、小型初创的独立开发者团队的项目中,往往会涉及到一个非常重要的环节: 如何在官网上为海外客户提供便捷的在线支付能力  ,寻求全新的增量机会? 今天主要和大家分享在官网内集成海外在线支付能力的渠道--- -Stripe ( 国内仅面向注册过公司的有效,后续我会分享针对个人独立开发者,如何集成海外多渠道的在线支付 ) Stripe干嘛滴? Stripe 是一家支付处理公司,提供简化的在线支付解决方案,帮助商家接受全球支付。支持全球多种支付方式,适用于各种业务模型,包括 软件订阅、电子商务和线上捐赠 等。主要服务包括信用卡支付、订阅管理、跨境支付和安全保障。Stripe 提供易于集成的 API,便于开发者快速部署支付功能,支持多种货币和支付方式,旨在帮助商家提升支付效率并扩展全球业务。 Stripe的优势 Stripe为开发者带来的几大优势: 全球支付无界限 :支持全球主要市场的支付方式和货币,让您可以轻松覆盖国际用户。 API友好,易于集成 :Stripe提供简洁的API接口,帮助开发者快速集成支付功能,避免复杂代码️。 费用透明,无隐藏成本 :收费结构简明,按交易量收取费用,没有额外隐藏费用。 申请Stripe账户的基本条件 要成功申请Stripe账户,独立开发者需要符合以下基本条件: 身份 :国内的话,Stripe 支持以公\",\"siteName\":\"CSDN\",\"siteIcon\":\"https://th.bochaai.com/favicon?domain_url=https://blog.csdn.net/2403_90062330/article/details/145025739\",\"datePublished\":\"2025-01-09T10:53:37+08:00\",\"dateLastCrawled\":\"2025-01-09T10:53:37Z\",\"cachedPageUrl\":null,\"language\":null,\"isFamilyFriendly\":null,\"isNavigational\":null},{\"id\":\"https://api.bochaai.com/v1/#WebPages.1\",\"name\":\"开源亮点：《独立开发者出海宝典》— 一站式海外创业指南\",\"url\":\"https://blog.csdn.net/gitblog_00002/article/details/139849463\",\"displayUrl\":\"https://blog.csdn.net/gitblog_00002/article/details/139849463\",\"snippet\":\"开源亮点:《独立开发者出海宝典》— 一站式海外创业指南\\n项目地址: https://gitcode.com/hua1995116/indiehackers-steps\\n在这个全球化的时代,越来越多的独\",\"summary\":\"开源亮点:《独立开发者出海宝典》— 一站式海外创业指南\\n项目地址: https://gitcode.com/hua1995116/indiehackers-steps\\n在这个全球化的时代,越来越多的独立开发者梦想着将创意带向世界舞台。然而,面对复杂的跨国业务流程,许多初入者往往感到无从下手。为此,《独立开发者出海宝典》应运而生,作为一份详尽的指南,它不仅记录了一位开发者亲历海外市场的全过程,更分享了宝贵的实战经验和技巧,成为渴望拓展国际市场的创业者们的灯塔。\\n一、项目介绍\\n《独立开发者出海宝典》是一个全面解析独立开发者如何在美国建立公司、开设银行账户、接入支付系统乃至进行市场营销的开源项目。它以一位独立开发者亲身经历为基础,详细介绍了每一步骤的细节与注意事项,覆盖了从公司注册至税务申报的所有关键环节。无论是对海外市场充满好奇的新手,还是正寻找海外扩张攻略的老鸟,都能从中获益匪浅。\\n二、项目技术分析\\n该项目虽然主要聚焦于流程性操作,但其背后蕴含的技术应用同样值得关注。例如:\\n在线服务平台整合 :利用各种在线服务,如WyomingAgents公司注册平台、Fiverr上的EIN代办服务、Mercury和Wise金融解决方案等,展现了互联网时代的便利性和高效性。\\n文档自动化&数据安全性 :在整个过程中,频繁涉及电子文件提交、数字签名的应用,以及通过加密通道传输敏感信息(如EIN、护照信息),体现了数据安全的重要性。\\nAI与自然语言处理 :在客户服务方面,可能运用了AI聊天机器人或自然语言处理技术来提升用户体验,特别是在自动翻译服务中,帮助不同语种的客户快速获取所需信息。\\n三、项目及技术应用场景\\n该项目及其技术应用场景十分广泛:\\n远程工作生态建设 :对于远程工作者而言,掌握跨地域经营的知识和技术尤为重要,这能够促进其全球化业务布局,实现线上收入多元化。\\n金融科技领域创新 :在数字货\",\"siteName\":\"CSDN\",\"siteIcon\":\"https://th.bochaai.com/favicon?domain_url=https://blog.csdn.net/gitblog_00002/article/details/139849463\",\"datePublished\":\"2024-06-21T17:30:47+08:00\",\"dateLastCrawled\":\"2024-06-21T17:30:47Z\",\"cachedPageUrl\":null,\"language\":null,\"isFamilyFriendly\":null,\"isNavigational\":null},{\"id\":\"https://api.bochaai.com/v1/#WebPages.2\",\"name\":\"放牛哥\",\"url\":\"https://www.fangniuge.com/\",\"displayUrl\":\"https://www.fangniuge.com/\",\"snippet\":\"APP开发过程中有收费功能时就需要集成第三方支付,相比传统的信用卡支付,第三方支付极大的提高了用户的支付便捷度,也推广了第三方支付的使用范围。海外有哪些支付渠道以及如何集成,今天和大家分享这方面的知识\",\"summary\":\"APP开发过程中有收费功能时就需要集成第三方支付,相比传统的信用卡支付,第三方支付极大的提高了用户的支付便捷度,也推广了第三方支付的使用范围。海外有哪些支付渠道以及如何集成,今天和大家分享这方面的知识,希望对大家有所帮助。北京木奇移动技术有限公司,专业的软件外包开发公司,欢迎交流合作。 海外APP支付主要有以下几种方式: 1. PayPal:全球最大的在线支付公司,支持190个国家和地区的支付。 2. Stripe:支持135个国家和地区的支付,支持多种支付方式,包括信用卡、借记卡、Apple Pay和Google Pay等。 3. Braintree:PayPal的子公司,支持多种支付方式 caoguo功能微信小程序电商平台后台开发语言golang gmsecgormt 嵌入,自动数据库代码生成 gorm 自动构建(gormt)支持优惠券,物流系统uniapp 小程序端更多实际效果图 添加微信:yunbens 备注:入群; 社交APP是指用户以手机、平板等移动终端为载体,以在线识别用户及交换信息技术为基础,按照流量计费,通过移动网络来实现的社交应用功能,移动社交不包括打电话、发短信等通讯业务。与传统的PC端社交相比,移动社交具有人机交互、实时场景等特点,能够让用户随时随地的创造并分享内容,让网络最大程度地服务于个人的现实生活。 社交APP开发特点: 1、陌生交友:从多个市场的下载量数据分析,很多社交APP开发公司热衷于进入到陌生交友领域,尤其是在垂直细分的陌生交友领域,该类应用存在着生存空间。 2、社会关系链整合:社交APP能将多种关系整合,并且展现为简捷 1. 请您按下 “Windows 徽标键+X” 快捷键,启动 Windows PowerShell (管理员) ,执行下方命令: reg add \\\"HKEY修报怨、物业费缴纳、通知公告、社区活动、邻里交流等。同时,要注\",\"siteName\":\"www.fangniuge.com\",\"siteIcon\":\"https://th.bochaai.com/favicon?domain_url=https://www.fangniuge.com/\",\"datePublished\":\"2025-02-19T22:59:09+08:00\",\"dateLastCrawled\":\"2025-02-19T22:59:09Z\",\"cachedPageUrl\":null,\"language\":null,\"isFamilyFriendly\":null,\"isNavigational\":null},{\"id\":\"https://api.bochaai.com/v1/#WebPages.3\",\"name\":\"微信支付联手国际支付巨头Stripe加速国际化_腾讯新闻\",\"url\":\"https://news.qq.com/rain/a/20250417A02D4O00\",\"displayUrl\":\"https://news.qq.com/rain/a/20250417A02D4O00\",\"snippet\":\"全球支付服务与金融基础设施提供商Stripe宣布,与腾讯进一步深化全球合作,在20个国家的Stripe Terminal正式接入微信支付。在澳大利亚、加拿大、法国、德国、意大利、新加坡、英国、美国等国\",\"summary\":\"全球支付服务与金融基础设施提供商Stripe宣布,与腾讯进一步深化全球合作,在20个国家的Stripe Terminal正式接入微信支付。在澳大利亚、加拿大、法国、德国、意大利、新加坡、英国、美国等国家,由Stripe提供支持的企业不仅可以在线无缝接入微信支付,还可以通过Stripe Terminal实现线下收款。出海正在成为越来越多中国企业的发展趋势,国际化同样是支付行业机遇所在。“要出海,先铺路”,这条路就是服务中国出海企业的跨境资金和技术基础设施,各大支付机构也开始将目光投向跨境支付和出海业务,加码全球化布局。申万宏源证券指出,2024年以来,政策密集出台,重心是鼓励跨境电商和跨境支付系统发展。人民币国际化,中国跨境贸易是推动力、跨境支付是润滑剂,预计跨境支付支持政策有长期性。支付出海参与者:清算机构、银行、第三方支付机构,整体趋势已定,各方均有较大发展空间。\",\"siteName\":\"腾讯网\",\"siteIcon\":\"https://th.bochaai.com/favicon?domain_url=https://news.qq.com/rain/a/20250417A02D4O00\",\"datePublished\":\"2025-04-17T09:10:00+08:00\",\"dateLastCrawled\":\"2025-04-17T09:10:00Z\",\"cachedPageUrl\":null,\"language\":null,\"isFamilyFriendly\":null,\"isNavigational\":null}],\"someResultsRemoved\":true},\"images\":{\"id\":null,\"readLink\":null,\"webSearchUrl\":null,\"value\":[{\"webSearchUrl\":null,\"name\":null,\"thumbnailUrl\":\"https://i-blog.csdnimg.cn/direct/d6e89b8a81bc434f8ab41a755fcafe32.png\",\"datePublished\":null,\"contentUrl\":\"https://i-blog.csdnimg.cn/direct/d6e89b8a81bc434f8ab41a755fcafe32.png\",\"hostPageUrl\":\"https://blog.csdn.net/2403_90062330/article/details/145025739\",\"contentSize\":null,\"encodingFormat\":null,\"hostPageDisplayUrl\":\"https://blog.csdn.net/2403_90062330/article/details/145025739\",\"width\":0,\"height\":0,\"thumbnail\":null}],\"isFamilyFriendly\":null},\"videos\":null}}\n",
      "----------------------------------------------------------------------------------------------------\n",
      "【独立开发】出海产品在线支付申请流程_海外支付对接不支持用个人的名义申请-CSDN博客\n",
      "https://blog.csdn.net/2403_90062330/article/details/145025739\n",
      "最新推荐文章于 2025-03-14 18:07:32 发布 版权声明:本文为博主原创文章,遵循CC 4.0 BY-SA版权协议,转载请附上原文出处链接和本声明。 3 篇文章 订阅专栏 独立开发 2 篇文章 订阅专栏 产品出海 2 篇文章 订阅专栏 目前国内产品和应用基本都已经卷到一个天花板了,最近几年,在软件产品领域有个明显的趋势: 绝大部分软件应用都在快速转向海外市场  ,寻求全新的增量的机会 ,近期几年服务的一些企业客户、小型初创的独立开发者团队的项目中,往往会涉及到一个非常重要的环节: 如何在官网上为海外客户提供便捷的在线支付能力  ,寻求全新的增量机会? 今天主要和大家分享在官网内集成海外在线支付能力的渠道--- -Stripe ( 国内仅面向注册过公司的有效,后续我会分享针对个人独立开发者,如何集成海外多渠道的在线支付 ) Stripe干嘛滴? Stripe 是一家支付处理公司,提供简化的在线支付解决方案,帮助商家接受全球支付。支持全球多种支付方式,适用于各种业务模型,包括 软件订阅、电子商务和线上捐赠 等。主要服务包括信用卡支付、订阅管理、跨境支付和安全保障。Stripe 提供易于集成的 API,便于开发者快速部署支付功能,支持多种货币和支付方式,旨在帮助商家提升支付效率并扩展全球业务。 Stripe的优势 Stripe为开发者带来的几大优势: 全球支付无界限 :支持全球主要市场的支付方式和货币,让您可以轻松覆盖国际用户。 API友好,易于集成 :Stripe提供简洁的API接口,帮助开发者快速集成支付功能,避免复杂代码️。 费用透明,无隐藏成本 :收费结构简明,按交易量收取费用,没有额外隐藏费用。 申请Stripe账户的基本条件 要成功申请Stripe账户,独立开发者需要符合以下基本条件: 身份 :国内的话,Stripe 支持以公\n",
      "----------------------------------------------------------------------------------------------------\n",
      "开源亮点：《独立开发者出海宝典》— 一站式海外创业指南\n",
      "https://blog.csdn.net/gitblog_00002/article/details/139849463\n",
      "开源亮点:《独立开发者出海宝典》— 一站式海外创业指南\n",
      "项目地址: https://gitcode.com/hua1995116/indiehackers-steps\n",
      "在这个全球化的时代,越来越多的独立开发者梦想着将创意带向世界舞台。然而,面对复杂的跨国业务流程,许多初入者往往感到无从下手。为此,《独立开发者出海宝典》应运而生,作为一份详尽的指南,它不仅记录了一位开发者亲历海外市场的全过程,更分享了宝贵的实战经验和技巧,成为渴望拓展国际市场的创业者们的灯塔。\n",
      "一、项目介绍\n",
      "《独立开发者出海宝典》是一个全面解析独立开发者如何在美国建立公司、开设银行账户、接入支付系统乃至进行市场营销的开源项目。它以一位独立开发者亲身经历为基础,详细介绍了每一步骤的细节与注意事项,覆盖了从公司注册至税务申报的所有关键环节。无论是对海外市场充满好奇的新手,还是正寻找海外扩张攻略的老鸟,都能从中获益匪浅。\n",
      "二、项目技术分析\n",
      "该项目虽然主要聚焦于流程性操作,但其背后蕴含的技术应用同样值得关注。例如:\n",
      "在线服务平台整合 :利用各种在线服务,如WyomingAgents公司注册平台、Fiverr上的EIN代办服务、Mercury和Wise金融解决方案等,展现了互联网时代的便利性和高效性。\n",
      "文档自动化&数据安全性 :在整个过程中,频繁涉及电子文件提交、数字签名的应用,以及通过加密通道传输敏感信息(如EIN、护照信息),体现了数据安全的重要性。\n",
      "AI与自然语言处理 :在客户服务方面,可能运用了AI聊天机器人或自然语言处理技术来提升用户体验,特别是在自动翻译服务中,帮助不同语种的客户快速获取所需信息。\n",
      "三、项目及技术应用场景\n",
      "该项目及其技术应用场景十分广泛:\n",
      "远程工作生态建设 :对于远程工作者而言,掌握跨地域经营的知识和技术尤为重要,这能够促进其全球化业务布局,实现线上收入多元化。\n",
      "金融科技领域创新 :在数字货\n",
      "----------------------------------------------------------------------------------------------------\n",
      "放牛哥\n",
      "https://www.fangniuge.com/\n",
      "APP开发过程中有收费功能时就需要集成第三方支付,相比传统的信用卡支付,第三方支付极大的提高了用户的支付便捷度,也推广了第三方支付的使用范围。海外有哪些支付渠道以及如何集成,今天和大家分享这方面的知识,希望对大家有所帮助。北京木奇移动技术有限公司,专业的软件外包开发公司,欢迎交流合作。 海外APP支付主要有以下几种方式: 1. PayPal:全球最大的在线支付公司,支持190个国家和地区的支付。 2. Stripe:支持135个国家和地区的支付,支持多种支付方式,包括信用卡、借记卡、Apple Pay和Google Pay等。 3. Braintree:PayPal的子公司,支持多种支付方式 caoguo功能微信小程序电商平台后台开发语言golang gmsecgormt 嵌入,自动数据库代码生成 gorm 自动构建(gormt)支持优惠券,物流系统uniapp 小程序端更多实际效果图 添加微信:yunbens 备注:入群; 社交APP是指用户以手机、平板等移动终端为载体,以在线识别用户及交换信息技术为基础,按照流量计费,通过移动网络来实现的社交应用功能,移动社交不包括打电话、发短信等通讯业务。与传统的PC端社交相比,移动社交具有人机交互、实时场景等特点,能够让用户随时随地的创造并分享内容,让网络最大程度地服务于个人的现实生活。 社交APP开发特点: 1、陌生交友:从多个市场的下载量数据分析,很多社交APP开发公司热衷于进入到陌生交友领域,尤其是在垂直细分的陌生交友领域,该类应用存在着生存空间。 2、社会关系链整合:社交APP能将多种关系整合,并且展现为简捷 1. 请您按下 “Windows 徽标键+X” 快捷键,启动 Windows PowerShell (管理员) ,执行下方命令: reg add \"HKEY修报怨、物业费缴纳、通知公告、社区活动、邻里交流等。同时,要注\n",
      "----------------------------------------------------------------------------------------------------\n",
      "微信支付联手国际支付巨头Stripe加速国际化_腾讯新闻\n",
      "https://news.qq.com/rain/a/20250417A02D4O00\n",
      "全球支付服务与金融基础设施提供商Stripe宣布,与腾讯进一步深化全球合作,在20个国家的Stripe Terminal正式接入微信支付。在澳大利亚、加拿大、法国、德国、意大利、新加坡、英国、美国等国家,由Stripe提供支持的企业不仅可以在线无缝接入微信支付,还可以通过Stripe Terminal实现线下收款。出海正在成为越来越多中国企业的发展趋势,国际化同样是支付行业机遇所在。“要出海,先铺路”,这条路就是服务中国出海企业的跨境资金和技术基础设施,各大支付机构也开始将目光投向跨境支付和出海业务,加码全球化布局。申万宏源证券指出,2024年以来,政策密集出台,重心是鼓励跨境电商和跨境支付系统发展。人民币国际化,中国跨境贸易是推动力、跨境支付是润滑剂,预计跨境支付支持政策有长期性。支付出海参与者:清算机构、银行、第三方支付机构,整体趋势已定,各方均有较大发展空间。\n"
     ]
    }
   ],
   "source": [
    "from src.services.search import bocha_search\n",
    "\n",
    "res = bocha_search('独立开发者出海支付渠道')\n",
    "for page in res.data.webPages.value:\n",
    "    print('-'*100)\n",
    "    print(page.name)\n",
    "    print(page.url)\n",
    "    print(page.summary)"
   ]
  }
 ],
 "metadata": {
  "kernelspec": {
   "display_name": ".venv",
   "language": "python",
   "name": "python3"
  },
  "language_info": {
   "codemirror_mode": {
    "name": "ipython",
    "version": 3
   },
   "file_extension": ".py",
   "mimetype": "text/x-python",
   "name": "python",
   "nbconvert_exporter": "python",
   "pygments_lexer": "ipython3",
   "version": "3.13.2"
  }
 },
 "nbformat": 4,
 "nbformat_minor": 5
}
