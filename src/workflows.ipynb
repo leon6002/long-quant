{
 "cells": [
  {
   "cell_type": "code",
   "execution_count": 3,
   "metadata": {},
   "outputs": [
    {
     "name": "stderr",
     "output_type": "stream",
     "text": [
      "2025-02-15 10:44:45 INFO [243342219.py]: imports loaded\n"
     ]
    }
   ],
   "source": [
    "from datetime import datetime\n",
    "from core.analysis import analyze_stock_no_parse\n",
    "from maintenance.manual import batch_analyze_ranked_stock\n",
    "from services.ai_service import ai_search\n",
    "import logging\n",
    "import json\n",
    "from services.tushare import find_stock_code\n",
    "from utils.common import time_now\n",
    "\n",
    "log = logging.getLogger(__name__)\n",
    "log.info('imports loaded')"
   ]
  },
  {
   "cell_type": "code",
   "execution_count": 4,
   "metadata": {},
   "outputs": [
    {
     "name": "stderr",
     "output_type": "stream",
     "text": [
      "2025-02-15 10:44:46 INFO [740033333.py]: ai_search_workflow loaded\n"
     ]
    }
   ],
   "source": [
    "def ai_search_workflow(query):\n",
    "    res_json = ai_search(query)\n",
    "    time = datetime.now()\n",
    "    time_str = time.strftime('%m%d_%H%M')\n",
    "    filename = f'{query[:8]}_{time_str}.md'\n",
    "    save_path = f'/Users/cgl/Library/Mobile Documents/iCloud~md~obsidian/Documents/md/ask_ai/ai_search/{filename}'\n",
    "    save_content = f\"**问题：** {res_json['query']}\\n\\n\"\n",
    "    save_content += f\"{res_json['answer']}\"\n",
    "    save_content += json.dumps()\n",
    "    with open(save_path, \"w\") as f:\n",
    "            f.write(save_content)\n",
    "    log.info(\"AI搜索分析结束，文件已保存\")\n",
    "log.info('ai_search_workflow loaded')"
   ]
  },
  {
   "cell_type": "code",
   "execution_count": null,
   "metadata": {},
   "outputs": [],
   "source": [
    "def loop_analyze():\n",
    "    for i  in range(5):\n",
    "        batch_analyze_ranked_stock()"
   ]
  },
  {
   "cell_type": "code",
   "execution_count": null,
   "metadata": {},
   "outputs": [
    {
     "name": "stderr",
     "output_type": "stream",
     "text": [
      "2025-02-15 10:44:49 INFO [3357277946.py]: ai_stock_analysis_workflow loaded\n"
     ]
    }
   ],
   "source": [
    "def ai_stock_analysis_workflow(ts_code: str=None, name: str=None):\n",
    "    \"\"\"\n",
    "    根据技术面和消息面分析股票，需传入ts_code或者name股票名称至少一个。\n",
    "    有限根据ts_code\n",
    "    \"\"\"\n",
    "    if ts_code is None:\n",
    "        if name is None:\n",
    "            raise ValueError(\"ts_code和name必须传入一个\")\n",
    "        ts_code = find_stock_code(name)\n",
    "        if ts_code is None:\n",
    "            raise ValueError(\"输入的股票名称不正确\")\n",
    "    prompt, suggestion=analyze_stock_no_parse(ts_code)\n",
    "    filename = f'stock_{ts_code[:6]}_{time_now('%m%d_%H%M')}.md'\n",
    "    save_path = f'/Users/cgl/Library/Mobile Documents/iCloud~md~obsidian/Documents/md/ask_ai/stock_analyze/{filename}'\n",
    "    save_content = f'# 个股分析：{ts_code}'\n",
    "    save_content += '\\n\\n'\n",
    "    save_content += suggestion\n",
    "    save_content += '\\n\\n**提问词：**\\n'\n",
    "    save_content += prompt\n",
    "    with open(save_path, \"w\") as f:\n",
    "         f.write(save_content)\n",
    "log.info('ai_stock_analysis_workflow loaded')"
   ]
  },
  {
   "cell_type": "code",
   "execution_count": null,
   "metadata": {},
   "outputs": [
    {
     "name": "stderr",
     "output_type": "stream",
     "text": [
      "2025-02-15 10:28:36 INFO [_client.py]: HTTP Request: POST https://dashscope.aliyuncs.com/compatible-mode/v1/chat/completions \"HTTP/1.1 200 OK\"\n",
      "2025-02-15 10:28:36 INFO [ai_service.py]: 搜索关键词： 电魂网络 股票 下周一 买入 分析  \n",
      "2025-02-15 10:28:38 INFO [lib.rs]: response: https://lite.duckduckgo.com/lite/ 200 18770\n",
      "2025-02-15 10:28:38 ERROR [downloads.py]: not a 200 response: 403 for URL https://www.zhihu.com/question/11140802137\n",
      "2025-02-15 10:28:38 WARNING [core.py]: discarding data: None\n",
      "2025-02-15 10:28:38 INFO [ai_service.py]: 搜索关键词： 电魂网络 股票 走势预测 2025年2月\n",
      "2025-02-15 10:28:40 INFO [lib.rs]: response: https://lite.duckduckgo.com/lite/ 200 18617\n",
      "2025-02-15 10:29:29 INFO [_client.py]: HTTP Request: POST https://api.siliconflow.cn/v1/chat/completions \"HTTP/1.1 200 OK\"\n",
      "2025-02-15 10:29:30 INFO [2524227845.py]: AI搜索分析结束，文件已保存\n"
     ]
    }
   ],
   "source": [
    "\n",
    "ai_search_workflow(\"电魂网络股票下周一是否可以买入？\")"
   ]
  },
  {
   "cell_type": "code",
   "execution_count": null,
   "metadata": {},
   "outputs": [],
   "source": [
    "ai_stock_analysis_workflow('电魂网络')"
   ]
  }
 ],
 "metadata": {
  "kernelspec": {
   "display_name": "myenv",
   "language": "python",
   "name": "python3"
  },
  "language_info": {
   "codemirror_mode": {
    "name": "ipython",
    "version": 3
   },
   "file_extension": ".py",
   "mimetype": "text/x-python",
   "name": "python",
   "nbconvert_exporter": "python",
   "pygments_lexer": "ipython3",
   "version": "3.13.2"
  }
 },
 "nbformat": 4,
 "nbformat_minor": 2
}
